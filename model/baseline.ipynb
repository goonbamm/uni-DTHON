{
 "cells": [
  {
   "cell_type": "code",
   "execution_count": 8,
   "metadata": {},
   "outputs": [],
   "source": [
    "import random\n",
    "import warnings\n",
    "\n",
    "import numpy as np\n",
    "import pandas as pd\n",
    "import matplotlib.pyplot as plt\n",
    "\n",
    "from collections import Counter\n",
    "from pathlib import Path\n",
    "from lightgbm import LGBMClassifier\n",
    "\n",
    "from sklearn.metrics import f1_score\n",
    "from sklearn.tree import DecisionTreeClassifier\n"
   ]
  },
  {
   "cell_type": "code",
   "execution_count": 9,
   "metadata": {},
   "outputs": [],
   "source": [
    "warnings.filterwarnings(\"ignore\")"
   ]
  },
  {
   "cell_type": "code",
   "execution_count": 10,
   "metadata": {},
   "outputs": [],
   "source": [
    "# 파일 불러오기\n",
    "def dataframe_from_csv(target):\n",
    "  return pd.read_csv(target).rename(columns=lambda x:x.strip())\n",
    "\n",
    "def dataframe_from_csvs(targets):\n",
    "  return pd.concat([dataframe_from_csv(x) for x in targets])"
   ]
  },
  {
   "cell_type": "code",
   "execution_count": 11,
   "metadata": {},
   "outputs": [
    {
     "name": "stdout",
     "output_type": "stream",
     "text": [
      "train: 62564\n",
      "validation: 7820\n",
      "test: 7820\n"
     ]
    }
   ],
   "source": [
    "data_path = 'dataset'\n",
    "\n",
    "train_files = sorted([x for x in Path(f'{data_path}/train/').glob('*.csv')])\n",
    "val_files = sorted([x for x in Path(f'{data_path}/val/').glob('*.csv')])\n",
    "\n",
    "train = dataframe_from_csvs(train_files)\n",
    "val = dataframe_from_csvs(val_files)\n",
    "test = pd.read_csv(f'{data_path}/test.csv')\n",
    "print(f'train: {len(train)}')\n",
    "print(f'validation: {len(val)}')\n",
    "print(f'test: {len(test)}')"
   ]
  },
  {
   "cell_type": "code",
   "execution_count": 12,
   "metadata": {},
   "outputs": [],
   "source": [
    "train = train.drop(['site', 'sid'], axis=1)\n",
    "val = val.drop(['site', 'sid'], axis=1)\n",
    "test = test.drop(['site', 'sid'], axis=1)\n",
    "train['leaktype'].replace(['out','in','noise','other','normal'], [0,1,2,3,4], inplace=True)\n",
    "val['leaktype'].replace(['out','in','noise','other','normal'], [0,1,2,3,4], inplace=True)\n",
    "test['leaktype']=\"\"\n",
    "\n",
    "# train을 target과 feature로 나눠줍니다.\n",
    "train_x=train.drop(['leaktype'], axis=1)\n",
    "train_y=train['leaktype']\n",
    "val_x=val.drop(['leaktype'], axis=1)\n",
    "val_y=val['leaktype']\n",
    "test_x=test.drop(['leaktype'], axis=1)\n",
    "test_y=test['leaktype']"
   ]
  },
  {
   "cell_type": "code",
   "execution_count": 13,
   "metadata": {},
   "outputs": [],
   "source": [
    "def print_num_of_classes(df, name):\n",
    "    num2label = ['out','in','noise','other','normal']\n",
    "    count_dict = dict(Counter(list(df)))\n",
    "    sum_num = sum([v for v in count_dict.values()])\n",
    "    \n",
    "    print(f'----LABELS in {name}_dataset----\\n')\n",
    "    for k, v in count_dict.items():\n",
    "        print(f'{num2label[k]}({k}): {v} 개 ({v / sum_num * 100:0.2f}%)')\n",
    "    \n",
    "    print('\\n\\n')"
   ]
  },
  {
   "cell_type": "code",
   "execution_count": 14,
   "metadata": {},
   "outputs": [
    {
     "name": "stdout",
     "output_type": "stream",
     "text": [
      "----LABELS in train_dataset----\n",
      "\n",
      "out(0): 17539 개 (28.03%)\n",
      "in(1): 13273 개 (21.22%)\n",
      "noise(2): 5029 개 (8.04%)\n",
      "other(3): 7019 개 (11.22%)\n",
      "normal(4): 19704 개 (31.49%)\n",
      "\n",
      "\n",
      "\n",
      "----LABELS in val_dataset----\n",
      "\n",
      "out(0): 2192 개 (28.03%)\n",
      "in(1): 1659 개 (21.21%)\n",
      "noise(2): 629 개 (8.04%)\n",
      "other(3): 878 개 (11.23%)\n",
      "normal(4): 2462 개 (31.48%)\n",
      "\n",
      "\n",
      "\n"
     ]
    }
   ],
   "source": [
    "print_num_of_classes(train_y, name='train')\n",
    "print_num_of_classes(val_y, name='val')"
   ]
  },
  {
   "cell_type": "code",
   "execution_count": 17,
   "metadata": {},
   "outputs": [
    {
     "data": {
      "text/html": [
       "<style>#sk-container-id-1 {color: black;background-color: white;}#sk-container-id-1 pre{padding: 0;}#sk-container-id-1 div.sk-toggleable {background-color: white;}#sk-container-id-1 label.sk-toggleable__label {cursor: pointer;display: block;width: 100%;margin-bottom: 0;padding: 0.3em;box-sizing: border-box;text-align: center;}#sk-container-id-1 label.sk-toggleable__label-arrow:before {content: \"▸\";float: left;margin-right: 0.25em;color: #696969;}#sk-container-id-1 label.sk-toggleable__label-arrow:hover:before {color: black;}#sk-container-id-1 div.sk-estimator:hover label.sk-toggleable__label-arrow:before {color: black;}#sk-container-id-1 div.sk-toggleable__content {max-height: 0;max-width: 0;overflow: hidden;text-align: left;background-color: #f0f8ff;}#sk-container-id-1 div.sk-toggleable__content pre {margin: 0.2em;color: black;border-radius: 0.25em;background-color: #f0f8ff;}#sk-container-id-1 input.sk-toggleable__control:checked~div.sk-toggleable__content {max-height: 200px;max-width: 100%;overflow: auto;}#sk-container-id-1 input.sk-toggleable__control:checked~label.sk-toggleable__label-arrow:before {content: \"▾\";}#sk-container-id-1 div.sk-estimator input.sk-toggleable__control:checked~label.sk-toggleable__label {background-color: #d4ebff;}#sk-container-id-1 div.sk-label input.sk-toggleable__control:checked~label.sk-toggleable__label {background-color: #d4ebff;}#sk-container-id-1 input.sk-hidden--visually {border: 0;clip: rect(1px 1px 1px 1px);clip: rect(1px, 1px, 1px, 1px);height: 1px;margin: -1px;overflow: hidden;padding: 0;position: absolute;width: 1px;}#sk-container-id-1 div.sk-estimator {font-family: monospace;background-color: #f0f8ff;border: 1px dotted black;border-radius: 0.25em;box-sizing: border-box;margin-bottom: 0.5em;}#sk-container-id-1 div.sk-estimator:hover {background-color: #d4ebff;}#sk-container-id-1 div.sk-parallel-item::after {content: \"\";width: 100%;border-bottom: 1px solid gray;flex-grow: 1;}#sk-container-id-1 div.sk-label:hover label.sk-toggleable__label {background-color: #d4ebff;}#sk-container-id-1 div.sk-serial::before {content: \"\";position: absolute;border-left: 1px solid gray;box-sizing: border-box;top: 0;bottom: 0;left: 50%;z-index: 0;}#sk-container-id-1 div.sk-serial {display: flex;flex-direction: column;align-items: center;background-color: white;padding-right: 0.2em;padding-left: 0.2em;position: relative;}#sk-container-id-1 div.sk-item {position: relative;z-index: 1;}#sk-container-id-1 div.sk-parallel {display: flex;align-items: stretch;justify-content: center;background-color: white;position: relative;}#sk-container-id-1 div.sk-item::before, #sk-container-id-1 div.sk-parallel-item::before {content: \"\";position: absolute;border-left: 1px solid gray;box-sizing: border-box;top: 0;bottom: 0;left: 50%;z-index: -1;}#sk-container-id-1 div.sk-parallel-item {display: flex;flex-direction: column;z-index: 1;position: relative;background-color: white;}#sk-container-id-1 div.sk-parallel-item:first-child::after {align-self: flex-end;width: 50%;}#sk-container-id-1 div.sk-parallel-item:last-child::after {align-self: flex-start;width: 50%;}#sk-container-id-1 div.sk-parallel-item:only-child::after {width: 0;}#sk-container-id-1 div.sk-dashed-wrapped {border: 1px dashed gray;margin: 0 0.4em 0.5em 0.4em;box-sizing: border-box;padding-bottom: 0.4em;background-color: white;}#sk-container-id-1 div.sk-label label {font-family: monospace;font-weight: bold;display: inline-block;line-height: 1.2em;}#sk-container-id-1 div.sk-label-container {text-align: center;}#sk-container-id-1 div.sk-container {/* jupyter's `normalize.less` sets `[hidden] { display: none; }` but bootstrap.min.css set `[hidden] { display: none !important; }` so we also need the `!important` here to be able to override the default hidden behavior on the sphinx rendered scikit-learn.org. See: https://github.com/scikit-learn/scikit-learn/issues/21755 */display: inline-block !important;position: relative;}#sk-container-id-1 div.sk-text-repr-fallback {display: none;}</style><div id=\"sk-container-id-1\" class=\"sk-top-container\"><div class=\"sk-text-repr-fallback\"><pre>DecisionTreeClassifier(random_state=2022)</pre><b>In a Jupyter environment, please rerun this cell to show the HTML representation or trust the notebook. <br />On GitHub, the HTML representation is unable to render, please try loading this page with nbviewer.org.</b></div><div class=\"sk-container\" hidden><div class=\"sk-item\"><div class=\"sk-estimator sk-toggleable\"><input class=\"sk-toggleable__control sk-hidden--visually\" id=\"sk-estimator-id-1\" type=\"checkbox\" checked><label for=\"sk-estimator-id-1\" class=\"sk-toggleable__label sk-toggleable__label-arrow\">DecisionTreeClassifier</label><div class=\"sk-toggleable__content\"><pre>DecisionTreeClassifier(random_state=2022)</pre></div></div></div></div></div>"
      ],
      "text/plain": [
       "DecisionTreeClassifier(random_state=2022)"
      ]
     },
     "execution_count": 17,
     "metadata": {},
     "output_type": "execute_result"
    }
   ],
   "source": [
    "# 학습\n",
    "df_clf.fit(train_x, train_y)"
   ]
  },
  {
   "cell_type": "code",
   "execution_count": 18,
   "metadata": {},
   "outputs": [
    {
     "name": "stdout",
     "output_type": "stream",
     "text": [
      "Validation F1 score:  0.5691106664340266\n"
     ]
    }
   ],
   "source": [
    "# val 추론\n",
    "val_pred = df_clf.predict(val_x)\n",
    "print(\"Validation F1 score: \", f1_score(val_y, val_pred, average='macro'))"
   ]
  },
  {
   "cell_type": "code",
   "execution_count": 19,
   "metadata": {},
   "outputs": [],
   "source": [
    "# test 추론\n",
    "test_pred = df_clf.predict(test_x)"
   ]
  },
  {
   "cell_type": "code",
   "execution_count": 20,
   "metadata": {},
   "outputs": [],
   "source": [
    "# 제출파일 생성\n",
    "submission = pd.read_csv(f'{data_path}/sample_submission.csv')\n",
    "submission['leaktype']=test_pred\n",
    "\n",
    "submission.to_csv(f'{data_path}/submission1.csv', index=False)"
   ]
  }
 ],
 "metadata": {
  "kernelspec": {
   "display_name": "Python 3.10.0 64-bit",
   "language": "python",
   "name": "python3"
  },
  "language_info": {
   "codemirror_mode": {
    "name": "ipython",
    "version": 3
   },
   "file_extension": ".py",
   "mimetype": "text/x-python",
   "name": "python",
   "nbconvert_exporter": "python",
   "pygments_lexer": "ipython3",
   "version": "3.10.0"
  },
  "orig_nbformat": 4,
  "vscode": {
   "interpreter": {
    "hash": "8d863ddbeeb12e59c8b47eb7d0544679a05a22030947c1d38f26e21aa2796d5c"
   }
  }
 },
 "nbformat": 4,
 "nbformat_minor": 2
}
